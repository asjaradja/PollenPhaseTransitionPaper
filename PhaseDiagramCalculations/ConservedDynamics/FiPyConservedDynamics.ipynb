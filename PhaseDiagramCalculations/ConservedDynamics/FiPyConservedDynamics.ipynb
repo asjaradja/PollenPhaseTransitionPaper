{
 "cells": [
  {
   "cell_type": "code",
   "execution_count": 32,
   "metadata": {},
   "outputs": [],
   "source": [
    "from fipy import *\n",
    "import mayavi\n",
    "import math\n",
    "import numpy as np\n",
    "from fipy.tools import dump"
   ]
  },
  {
   "cell_type": "code",
   "execution_count": 35,
   "metadata": {},
   "outputs": [],
   "source": [
    "mesh = Gmsh2DIn3DSpace('''\n",
    "...     radius = 15.0;\n",
    "...     cellSize = 0.4;\n",
    "...     \n",
    "...     // create inner 1/8 shell\n",
    "...     Point(1) = {0, 0, 0, cellSize};\n",
    "...     Point(2) = {-radius, 0, 0, cellSize};\n",
    "...     Point(3) = {0, radius, 0, cellSize};\n",
    "...     Point(4) = {0, 0, radius, cellSize};\n",
    "...     Circle(1) = {2, 1, 3};\n",
    "...     Circle(2) = {4, 1, 2};\n",
    "...     Circle(3) = {4, 1, 3};\n",
    "...     Line Loop(1) = {1, -3, 2} ;\n",
    "...     Ruled Surface(1) = {1};\n",
    "...     \n",
    "...     // create remaining 7/8 inner shells\n",
    "...     t1[] = Rotate {{0,0,1},{0,0,0},Pi/2} {Duplicata{Surface{1};}};\n",
    "...     t2[] = Rotate {{0,0,1},{0,0,0},Pi} {Duplicata{Surface{1};}};\n",
    "...     t3[] = Rotate {{0,0,1},{0,0,0},Pi*3/2} {Duplicata{Surface{1};}};\n",
    "...     t4[] = Rotate {{0,1,0},{0,0,0},-Pi/2} {Duplicata{Surface{1};}};\n",
    "...     t5[] = Rotate {{0,0,1},{0,0,0},Pi/2} {Duplicata{Surface{t4[0]};}};\n",
    "...     t6[] = Rotate {{0,0,1},{0,0,0},Pi} {Duplicata{Surface{t4[0]};}};\n",
    "...     t7[] = Rotate {{0,0,1},{0,0,0},Pi*3/2} {Duplicata{Surface{t4[0]};}};\n",
    "...     \n",
    "...     // create entire inner and outer shell\n",
    "...     Surface Loop(100)={1,t1[0],t2[0],t3[0],t7[0],t4[0],t5[0],t6[0]};\n",
    "... ''', order=2).extrude(extrudeFunc=lambda r: 1.1 * r) \n",
    "\n",
    "#gmsh code for creating meshed sphere is given above\n",
    "#set up variables, parameters, and initial condition\n",
    "phi = CellVariable(name=r\"$\\phi$\", mesh=mesh) \n",
    "phi.setValue(GaussianNoiseVariable(mesh=mesh,mean=0,variance=0.04)) \n",
    "PHI = phi.arithmeticFaceValue \n",
    "a = epsilon = 1.\n",
    "qn =  1.5\n",
    "D = 1.\n",
    "K = 1.\n",
    "u4 = 120.\n",
    "u3 = -40.\n",
    "tau = 20.\n",
    "dexp = -7\n",
    "elapsed = 0\n",
    "\n",
    "#define the conserved dynamics equation\n",
    "sourcey = (u4*0.5*PHI*PHI+u3*PHI+tau)+D*K*qn**4\n",
    "eq = (TransientTerm()== DiffusionTerm(coeff=sourcey)+DiffusionTerm(coeff=(2*qn**2,D*K))+DiffusionTerm(coeff=(1., 1., D*K))) \n"
   ]
  },
  {
   "cell_type": "code",
   "execution_count": 36,
   "metadata": {},
   "outputs": [],
   "source": [
    "# set the total integration time \"duration\" and evolve the dynamics\n",
    "duration = 2\n",
    "while elapsed < duration:\n",
    "    dt = min(0.005, math.exp(dexp))\n",
    "    elapsed += dt\n",
    "    dexp += 0.005\n",
    "    eq.solve(phi, dt=dt) "
   ]
  },
  {
   "cell_type": "code",
   "execution_count": 37,
   "metadata": {},
   "outputs": [],
   "source": [
    "# view the result\n",
    "view = Viewer(vars=phi)"
   ]
  },
  {
   "cell_type": "code",
   "execution_count": 39,
   "metadata": {},
   "outputs": [],
   "source": [
    "# extrapolate the solution onto points on sphere\n",
    "\n",
    "\n",
    "x3d,y3d,z3d=mesh.faceCenters\n",
    "valc = np.array(phi.arithmeticFaceValue)\n",
    "\n",
    "rr = -1.\n",
    "r3d=(x3d**2+y3d**2)**0.5\n",
    "theta3d=np.zeros(len(z3d))\n",
    "pp3d=np.zeros(len(z3d))\n",
    "x3dn = np.zeros(len(z3d))\n",
    "y3dn = np.zeros(len(z3d))\n",
    "z3dn = np.zeros(len(z3d))\n",
    "\n",
    "\n",
    "for i in range(0,len(z3d)):\n",
    "    pp3d[i]=np.arctan2(y3d[i],x3d[i])\n",
    "    rad = (x3d[i]**2+y3d[i]**2+z3d[i]**2)**0.5\n",
    "    theta3d[i]=np.arccos(z3d[i]/rad)\n",
    "    x3dn[i]=(rad+rr*valc[i])*np.cos(pp3d[i])*np.sin(theta3d[i])\n",
    "    y3dn[i]=(rad+rr*valc[i])*np.sin(pp3d[i])*np.sin(theta3d[i])\n",
    "    z3dn[i]=(rad+rr*valc[i])*np.cos(theta3d[i])\n",
    "\n",
    "valc=(valc-valc.min())/(valc.max()-valc.min())"
   ]
  },
  {
   "cell_type": "code",
   "execution_count": 40,
   "metadata": {},
   "outputs": [],
   "source": [
    "# plot the points as a surface\n",
    "\n",
    "from mayavi import mlab\n",
    "mlab.figure(fgcolor=(0., 0., 0.), bgcolor=(0, 0, 0))\n",
    "\n",
    "pts = mlab.points3d(x3dn,y3dn,z3dn,scale_factor=0.5,colormap='YlOrBr')\n",
    "pts.glyph.scale_mode = 'scale_by_vector'\n",
    "pts.mlab_source.dataset.point_data.scalars = valc\n",
    "\n",
    "mlab.show()"
   ]
  },
  {
   "cell_type": "code",
   "execution_count": 38,
   "metadata": {},
   "outputs": [],
   "source": [
    "# export solution data to file\n",
    "dump.write({phi,mesh},filename='xxx')\n"
   ]
  },
  {
   "cell_type": "code",
   "execution_count": 28,
   "metadata": {},
   "outputs": [],
   "source": [
    "# extract data from file\n",
    "mesh, phi = dump.read('xxx')"
   ]
  }
 ],
 "metadata": {
  "kernelspec": {
   "display_name": "Python 2",
   "language": "python",
   "name": "python2"
  },
  "language_info": {
   "codemirror_mode": {
    "name": "ipython",
    "version": 2
   },
   "file_extension": ".py",
   "mimetype": "text/x-python",
   "name": "python",
   "nbconvert_exporter": "python",
   "pygments_lexer": "ipython2",
   "version": "2.7.15"
  }
 },
 "nbformat": 4,
 "nbformat_minor": 2
}
